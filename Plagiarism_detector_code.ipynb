{
 "cells": [
  {
   "cell_type": "code",
   "execution_count": 1,
   "id": "177f420f-add8-4ffe-bd19-4ff8b82c20d3",
   "metadata": {},
   "outputs": [
    {
     "name": "stderr",
     "output_type": "stream",
     "text": [
      "[nltk_data] Downloading collection 'popular'\n",
      "[nltk_data]    | \n",
      "[nltk_data]    | Downloading package cmudict to\n",
      "[nltk_data]    |     C:\\Users\\souna\\AppData\\Roaming\\nltk_data...\n",
      "[nltk_data]    |   Package cmudict is already up-to-date!\n",
      "[nltk_data]    | Downloading package gazetteers to\n",
      "[nltk_data]    |     C:\\Users\\souna\\AppData\\Roaming\\nltk_data...\n",
      "[nltk_data]    |   Package gazetteers is already up-to-date!\n",
      "[nltk_data]    | Downloading package genesis to\n",
      "[nltk_data]    |     C:\\Users\\souna\\AppData\\Roaming\\nltk_data...\n",
      "[nltk_data]    |   Package genesis is already up-to-date!\n",
      "[nltk_data]    | Downloading package gutenberg to\n",
      "[nltk_data]    |     C:\\Users\\souna\\AppData\\Roaming\\nltk_data...\n",
      "[nltk_data]    |   Package gutenberg is already up-to-date!\n",
      "[nltk_data]    | Downloading package inaugural to\n",
      "[nltk_data]    |     C:\\Users\\souna\\AppData\\Roaming\\nltk_data...\n",
      "[nltk_data]    |   Package inaugural is already up-to-date!\n",
      "[nltk_data]    | Downloading package movie_reviews to\n",
      "[nltk_data]    |     C:\\Users\\souna\\AppData\\Roaming\\nltk_data...\n",
      "[nltk_data]    |   Package movie_reviews is already up-to-date!\n",
      "[nltk_data]    | Downloading package names to\n",
      "[nltk_data]    |     C:\\Users\\souna\\AppData\\Roaming\\nltk_data...\n",
      "[nltk_data]    |   Package names is already up-to-date!\n",
      "[nltk_data]    | Downloading package shakespeare to\n",
      "[nltk_data]    |     C:\\Users\\souna\\AppData\\Roaming\\nltk_data...\n",
      "[nltk_data]    |   Package shakespeare is already up-to-date!\n",
      "[nltk_data]    | Downloading package stopwords to\n",
      "[nltk_data]    |     C:\\Users\\souna\\AppData\\Roaming\\nltk_data...\n",
      "[nltk_data]    |   Package stopwords is already up-to-date!\n",
      "[nltk_data]    | Downloading package treebank to\n",
      "[nltk_data]    |     C:\\Users\\souna\\AppData\\Roaming\\nltk_data...\n",
      "[nltk_data]    |   Package treebank is already up-to-date!\n",
      "[nltk_data]    | Downloading package twitter_samples to\n",
      "[nltk_data]    |     C:\\Users\\souna\\AppData\\Roaming\\nltk_data...\n",
      "[nltk_data]    |   Package twitter_samples is already up-to-date!\n",
      "[nltk_data]    | Downloading package omw to\n",
      "[nltk_data]    |     C:\\Users\\souna\\AppData\\Roaming\\nltk_data...\n",
      "[nltk_data]    |   Package omw is already up-to-date!\n",
      "[nltk_data]    | Downloading package omw-1.4 to\n",
      "[nltk_data]    |     C:\\Users\\souna\\AppData\\Roaming\\nltk_data...\n",
      "[nltk_data]    |   Package omw-1.4 is already up-to-date!\n",
      "[nltk_data]    | Downloading package wordnet to\n",
      "[nltk_data]    |     C:\\Users\\souna\\AppData\\Roaming\\nltk_data...\n",
      "[nltk_data]    |   Package wordnet is already up-to-date!\n",
      "[nltk_data]    | Downloading package wordnet2021 to\n",
      "[nltk_data]    |     C:\\Users\\souna\\AppData\\Roaming\\nltk_data...\n",
      "[nltk_data]    |   Package wordnet2021 is already up-to-date!\n",
      "[nltk_data]    | Downloading package wordnet31 to\n",
      "[nltk_data]    |     C:\\Users\\souna\\AppData\\Roaming\\nltk_data...\n",
      "[nltk_data]    |   Package wordnet31 is already up-to-date!\n",
      "[nltk_data]    | Downloading package wordnet_ic to\n",
      "[nltk_data]    |     C:\\Users\\souna\\AppData\\Roaming\\nltk_data...\n",
      "[nltk_data]    |   Package wordnet_ic is already up-to-date!\n",
      "[nltk_data]    | Downloading package words to\n",
      "[nltk_data]    |     C:\\Users\\souna\\AppData\\Roaming\\nltk_data...\n",
      "[nltk_data]    |   Package words is already up-to-date!\n",
      "[nltk_data]    | Downloading package maxent_ne_chunker to\n",
      "[nltk_data]    |     C:\\Users\\souna\\AppData\\Roaming\\nltk_data...\n",
      "[nltk_data]    |   Package maxent_ne_chunker is already up-to-date!\n",
      "[nltk_data]    | Downloading package punkt to\n",
      "[nltk_data]    |     C:\\Users\\souna\\AppData\\Roaming\\nltk_data...\n",
      "[nltk_data]    |   Package punkt is already up-to-date!\n",
      "[nltk_data]    | Downloading package snowball_data to\n",
      "[nltk_data]    |     C:\\Users\\souna\\AppData\\Roaming\\nltk_data...\n",
      "[nltk_data]    |   Package snowball_data is already up-to-date!\n",
      "[nltk_data]    | Downloading package averaged_perceptron_tagger to\n",
      "[nltk_data]    |     C:\\Users\\souna\\AppData\\Roaming\\nltk_data...\n",
      "[nltk_data]    |   Package averaged_perceptron_tagger is already up-\n",
      "[nltk_data]    |       to-date!\n",
      "[nltk_data]    | \n",
      "[nltk_data]  Done downloading collection popular\n"
     ]
    },
    {
     "data": {
      "text/plain": [
       "True"
      ]
     },
     "execution_count": 1,
     "metadata": {},
     "output_type": "execute_result"
    }
   ],
   "source": [
    "import nltk\n",
    "nltk.download('popular')"
   ]
  },
  {
   "cell_type": "code",
   "execution_count": 2,
   "id": "b3df8e99-1fd1-4136-8bbe-e6b1ff9f24da",
   "metadata": {},
   "outputs": [],
   "source": [
    "import pandas as pd"
   ]
  },
  {
   "cell_type": "code",
   "execution_count": 3,
   "id": "dc09343d-e7b8-4368-bb57-ffcacd07edd4",
   "metadata": {},
   "outputs": [],
   "source": [
    "import string"
   ]
  },
  {
   "cell_type": "code",
   "execution_count": 4,
   "id": "6a63c335-9c09-4804-9f98-fc8f8d226d5b",
   "metadata": {},
   "outputs": [],
   "source": [
    "from nltk.corpus import stopwords"
   ]
  },
  {
   "cell_type": "code",
   "execution_count": 5,
   "id": "f563739a-f412-4eb6-a6df-82f8913e39d5",
   "metadata": {},
   "outputs": [],
   "source": [
    "from sklearn.linear_model import LogisticRegression"
   ]
  },
  {
   "cell_type": "code",
   "execution_count": 6,
   "id": "016573f1-df28-4927-8e9d-9fa6b981b9e8",
   "metadata": {},
   "outputs": [],
   "source": [
    "from sklearn.model_selection import train_test_split"
   ]
  },
  {
   "cell_type": "code",
   "execution_count": 7,
   "id": "9115131d-254e-471a-9382-e772157a2f25",
   "metadata": {},
   "outputs": [],
   "source": [
    "from sklearn.metrics import accuracy_score,classification_report,confusion_matrix\n",
    "from sklearn.feature_extraction.text import TfidfVectorizer"
   ]
  },
  {
   "cell_type": "code",
   "execution_count": 8,
   "id": "b408f9f2-2422-4e67-86c5-eeca9b954589",
   "metadata": {},
   "outputs": [
    {
     "data": {
      "text/html": [
       "<div>\n",
       "<style scoped>\n",
       "    .dataframe tbody tr th:only-of-type {\n",
       "        vertical-align: middle;\n",
       "    }\n",
       "\n",
       "    .dataframe tbody tr th {\n",
       "        vertical-align: top;\n",
       "    }\n",
       "\n",
       "    .dataframe thead th {\n",
       "        text-align: right;\n",
       "    }\n",
       "</style>\n",
       "<table border=\"1\" class=\"dataframe\">\n",
       "  <thead>\n",
       "    <tr style=\"text-align: right;\">\n",
       "      <th></th>\n",
       "      <th>A person on a horse jumps over a broken down airplane.</th>\n",
       "      <th>A person is at a diner, ordering an omelette.</th>\n",
       "      <th>0</th>\n",
       "    </tr>\n",
       "  </thead>\n",
       "  <tbody>\n",
       "    <tr>\n",
       "      <th>0</th>\n",
       "      <td>A person on a horse jumps over a broken down a...</td>\n",
       "      <td>A person is outdoors, on a horse.</td>\n",
       "      <td>1</td>\n",
       "    </tr>\n",
       "    <tr>\n",
       "      <th>1</th>\n",
       "      <td>Children smiling and waving at camera</td>\n",
       "      <td>There are children present</td>\n",
       "      <td>1</td>\n",
       "    </tr>\n",
       "    <tr>\n",
       "      <th>2</th>\n",
       "      <td>Children smiling and waving at camera</td>\n",
       "      <td>The kids are frowning</td>\n",
       "      <td>0</td>\n",
       "    </tr>\n",
       "    <tr>\n",
       "      <th>3</th>\n",
       "      <td>A boy is jumping on skateboard in the middle o...</td>\n",
       "      <td>The boy skates down the sidewalk.</td>\n",
       "      <td>0</td>\n",
       "    </tr>\n",
       "    <tr>\n",
       "      <th>4</th>\n",
       "      <td>A boy is jumping on skateboard in the middle o...</td>\n",
       "      <td>The boy does a skateboarding trick.</td>\n",
       "      <td>1</td>\n",
       "    </tr>\n",
       "  </tbody>\n",
       "</table>\n",
       "</div>"
      ],
      "text/plain": [
       "  A person on a horse jumps over a broken down airplane.  \\\n",
       "0  A person on a horse jumps over a broken down a...       \n",
       "1              Children smiling and waving at camera       \n",
       "2              Children smiling and waving at camera       \n",
       "3  A boy is jumping on skateboard in the middle o...       \n",
       "4  A boy is jumping on skateboard in the middle o...       \n",
       "\n",
       "  A person is at a diner, ordering an omelette.  0  \n",
       "0             A person is outdoors, on a horse.  1  \n",
       "1                    There are children present  1  \n",
       "2                         The kids are frowning  0  \n",
       "3             The boy skates down the sidewalk.  0  \n",
       "4           The boy does a skateboarding trick.  1  "
      ]
     },
     "execution_count": 8,
     "metadata": {},
     "output_type": "execute_result"
    }
   ],
   "source": [
    "data = pd.read_csv('train_snli.txt', sep='\\t')\n",
    "# 1 represents plagiarised texts \n",
    "# 0 represents non-plagiarised texts\n",
    "data.head()"
   ]
  },
  {
   "cell_type": "code",
   "execution_count": 9,
   "id": "ae07526a",
   "metadata": {},
   "outputs": [
    {
     "data": {
      "text/html": [
       "<div>\n",
       "<style scoped>\n",
       "    .dataframe tbody tr th:only-of-type {\n",
       "        vertical-align: middle;\n",
       "    }\n",
       "\n",
       "    .dataframe tbody tr th {\n",
       "        vertical-align: top;\n",
       "    }\n",
       "\n",
       "    .dataframe thead th {\n",
       "        text-align: right;\n",
       "    }\n",
       "</style>\n",
       "<table border=\"1\" class=\"dataframe\">\n",
       "  <thead>\n",
       "    <tr style=\"text-align: right;\">\n",
       "      <th></th>\n",
       "      <th>source_text</th>\n",
       "      <th>plagiarized_text</th>\n",
       "      <th>label</th>\n",
       "    </tr>\n",
       "  </thead>\n",
       "  <tbody>\n",
       "    <tr>\n",
       "      <th>0</th>\n",
       "      <td>A person on a horse jumps over a broken down a...</td>\n",
       "      <td>A person is outdoors, on a horse.</td>\n",
       "      <td>1</td>\n",
       "    </tr>\n",
       "    <tr>\n",
       "      <th>1</th>\n",
       "      <td>Children smiling and waving at camera</td>\n",
       "      <td>There are children present</td>\n",
       "      <td>1</td>\n",
       "    </tr>\n",
       "    <tr>\n",
       "      <th>2</th>\n",
       "      <td>Children smiling and waving at camera</td>\n",
       "      <td>The kids are frowning</td>\n",
       "      <td>0</td>\n",
       "    </tr>\n",
       "    <tr>\n",
       "      <th>3</th>\n",
       "      <td>A boy is jumping on skateboard in the middle o...</td>\n",
       "      <td>The boy skates down the sidewalk.</td>\n",
       "      <td>0</td>\n",
       "    </tr>\n",
       "    <tr>\n",
       "      <th>4</th>\n",
       "      <td>A boy is jumping on skateboard in the middle o...</td>\n",
       "      <td>The boy does a skateboarding trick.</td>\n",
       "      <td>1</td>\n",
       "    </tr>\n",
       "  </tbody>\n",
       "</table>\n",
       "</div>"
      ],
      "text/plain": [
       "                                         source_text  \\\n",
       "0  A person on a horse jumps over a broken down a...   \n",
       "1              Children smiling and waving at camera   \n",
       "2              Children smiling and waving at camera   \n",
       "3  A boy is jumping on skateboard in the middle o...   \n",
       "4  A boy is jumping on skateboard in the middle o...   \n",
       "\n",
       "                      plagiarized_text  label  \n",
       "0    A person is outdoors, on a horse.      1  \n",
       "1           There are children present      1  \n",
       "2                The kids are frowning      0  \n",
       "3    The boy skates down the sidewalk.      0  \n",
       "4  The boy does a skateboarding trick.      1  "
      ]
     },
     "execution_count": 9,
     "metadata": {},
     "output_type": "execute_result"
    }
   ],
   "source": [
    "data.columns = [\"source_text\", \"plagiarized_text\", \"label\"]\n",
    "data.head()"
   ]
  },
  {
   "cell_type": "code",
   "execution_count": 10,
   "id": "175c5d68-ef51-4e13-a5bb-0b06914a2115",
   "metadata": {},
   "outputs": [
    {
     "data": {
      "text/plain": [
       "label\n",
       "0    183965\n",
       "1    183407\n",
       "Name: count, dtype: int64"
      ]
     },
     "execution_count": 10,
     "metadata": {},
     "output_type": "execute_result"
    }
   ],
   "source": [
    "data['label'].value_counts()"
   ]
  },
  {
   "cell_type": "code",
   "execution_count": 11,
   "id": "f1ef5d5b-9b8e-4eee-9cda-33c8a7f32a36",
   "metadata": {},
   "outputs": [
    {
     "name": "stdout",
     "output_type": "stream",
     "text": [
      "everything sample\n"
     ]
    }
   ],
   "source": [
    "#input feature\n",
    "def preprocess_text(text):\n",
    "    # Remove punctuation\n",
    "    text = text.translate(str.maketrans(\"\", \"\", string.punctuation))\n",
    "    # Convert to lowercase\n",
    "    text = text.lower()\n",
    "    #remove stopwords\n",
    "    stop_words=set(stopwords.words('english'))\n",
    "    text= \" \".join(word for word in text.split() if word not in stop_words)\n",
    "    return text\n",
    "    \n",
    "# Test the function\n",
    "result = preprocess_text(\"EVERYTHING #####&&&(*)() IS SAMPLE \")\n",
    "print(result)"
   ]
  },
  {
   "cell_type": "code",
   "execution_count": 12,
   "id": "cd94281f-ce3d-4971-9d0f-84bd8fc266b4",
   "metadata": {},
   "outputs": [],
   "source": [
    "data['source_text']=data['source_text'].apply(preprocess_text)"
   ]
  },
  {
   "cell_type": "code",
   "execution_count": 13,
   "id": "2a1bb9da-09d3-4708-812b-2ea17d177f48",
   "metadata": {},
   "outputs": [
    {
     "data": {
      "text/html": [
       "<div>\n",
       "<style scoped>\n",
       "    .dataframe tbody tr th:only-of-type {\n",
       "        vertical-align: middle;\n",
       "    }\n",
       "\n",
       "    .dataframe tbody tr th {\n",
       "        vertical-align: top;\n",
       "    }\n",
       "\n",
       "    .dataframe thead th {\n",
       "        text-align: right;\n",
       "    }\n",
       "</style>\n",
       "<table border=\"1\" class=\"dataframe\">\n",
       "  <thead>\n",
       "    <tr style=\"text-align: right;\">\n",
       "      <th></th>\n",
       "      <th>source_text</th>\n",
       "      <th>plagiarized_text</th>\n",
       "      <th>label</th>\n",
       "    </tr>\n",
       "  </thead>\n",
       "  <tbody>\n",
       "    <tr>\n",
       "      <th>0</th>\n",
       "      <td>person horse jumps broken airplane</td>\n",
       "      <td>A person is outdoors, on a horse.</td>\n",
       "      <td>1</td>\n",
       "    </tr>\n",
       "    <tr>\n",
       "      <th>1</th>\n",
       "      <td>children smiling waving camera</td>\n",
       "      <td>There are children present</td>\n",
       "      <td>1</td>\n",
       "    </tr>\n",
       "    <tr>\n",
       "      <th>2</th>\n",
       "      <td>children smiling waving camera</td>\n",
       "      <td>The kids are frowning</td>\n",
       "      <td>0</td>\n",
       "    </tr>\n",
       "    <tr>\n",
       "      <th>3</th>\n",
       "      <td>boy jumping skateboard middle red bridge</td>\n",
       "      <td>The boy skates down the sidewalk.</td>\n",
       "      <td>0</td>\n",
       "    </tr>\n",
       "    <tr>\n",
       "      <th>4</th>\n",
       "      <td>boy jumping skateboard middle red bridge</td>\n",
       "      <td>The boy does a skateboarding trick.</td>\n",
       "      <td>1</td>\n",
       "    </tr>\n",
       "  </tbody>\n",
       "</table>\n",
       "</div>"
      ],
      "text/plain": [
       "                                source_text  \\\n",
       "0        person horse jumps broken airplane   \n",
       "1            children smiling waving camera   \n",
       "2            children smiling waving camera   \n",
       "3  boy jumping skateboard middle red bridge   \n",
       "4  boy jumping skateboard middle red bridge   \n",
       "\n",
       "                      plagiarized_text  label  \n",
       "0    A person is outdoors, on a horse.      1  \n",
       "1           There are children present      1  \n",
       "2                The kids are frowning      0  \n",
       "3    The boy skates down the sidewalk.      0  \n",
       "4  The boy does a skateboarding trick.      1  "
      ]
     },
     "execution_count": 13,
     "metadata": {},
     "output_type": "execute_result"
    }
   ],
   "source": [
    "data.head()"
   ]
  },
  {
   "cell_type": "code",
   "execution_count": 14,
   "id": "5634342f",
   "metadata": {},
   "outputs": [
    {
     "name": "stdout",
     "output_type": "stream",
     "text": [
      "source_text         0\n",
      "plagiarized_text    4\n",
      "label               0\n",
      "dtype: int64\n",
      "source_text         0\n",
      "plagiarized_text    0\n",
      "label               0\n",
      "dtype: int64\n"
     ]
    }
   ],
   "source": [
    "print(data.isnull().sum())\n",
    "data.dropna(inplace=True)\n",
    "print(data.isnull().sum())"
   ]
  },
  {
   "cell_type": "code",
   "execution_count": 15,
   "id": "07b01b97-e974-4349-a427-042721b3d4fc",
   "metadata": {},
   "outputs": [],
   "source": [
    "#vectorization\n",
    "tfidf_vectorizer=TfidfVectorizer()\n",
    "X = tfidf_vectorizer.fit_transform(data['source_text']+data['plagiarized_text'])\n"
   ]
  },
  {
   "cell_type": "code",
   "execution_count": 16,
   "id": "abf99e90-258e-4359-8ea8-c5c550732b6c",
   "metadata": {},
   "outputs": [
    {
     "name": "stdout",
     "output_type": "stream",
     "text": [
      "tfidf_vectorizer saved as tfidf_vectorizer.pkl\n"
     ]
    }
   ],
   "source": [
    "#save vectorization as .pkl\n",
    "import pickle\n",
    "with open('tfidf_vectorizer.pkl', 'wb') as file:\n",
    "    pickle.dump(tfidf_vectorizer, file)\n",
    "\n",
    "print(\"tfidf_vectorizer saved as tfidf_vectorizer.pkl\")\n"
   ]
  },
  {
   "cell_type": "code",
   "execution_count": 17,
   "id": "c8fffcd4-de2e-432d-8666-d451aeebf23c",
   "metadata": {},
   "outputs": [],
   "source": [
    "y=data['label']"
   ]
  },
  {
   "cell_type": "code",
   "execution_count": 18,
   "id": "554b2a60-71d6-49fd-a103-4208f3734bc9",
   "metadata": {},
   "outputs": [],
   "source": [
    "# split\n",
    "\n",
    "X_train,X_test,y_train,y_test=train_test_split(X,y,test_size=0.2,random_state=42)"
   ]
  },
  {
   "cell_type": "code",
   "execution_count": 19,
   "id": "79e93ce5-4c83-40ab-bc9a-63df54c7b0c0",
   "metadata": {},
   "outputs": [
    {
     "name": "stdout",
     "output_type": "stream",
     "text": [
      "accuracy 0.701145983613251\n",
      "Classification               precision    recall  f1-score   support\n",
      "\n",
      "           0       0.72      0.67      0.69     36837\n",
      "           1       0.69      0.73      0.71     36637\n",
      "\n",
      "    accuracy                           0.70     73474\n",
      "   macro avg       0.70      0.70      0.70     73474\n",
      "weighted avg       0.70      0.70      0.70     73474\n",
      "\n",
      "Confusion [[24702 12135]\n",
      " [ 9823 26814]]\n"
     ]
    },
    {
     "name": "stderr",
     "output_type": "stream",
     "text": [
      "c:\\Users\\souna\\OneDrive\\Desktop\\plagirism-detector\\myenv\\Lib\\site-packages\\sklearn\\linear_model\\_logistic.py:469: ConvergenceWarning: lbfgs failed to converge (status=1):\n",
      "STOP: TOTAL NO. of ITERATIONS REACHED LIMIT.\n",
      "\n",
      "Increase the number of iterations (max_iter) or scale the data as shown in:\n",
      "    https://scikit-learn.org/stable/modules/preprocessing.html\n",
      "Please also refer to the documentation for alternative solver options:\n",
      "    https://scikit-learn.org/stable/modules/linear_model.html#logistic-regression\n",
      "  n_iter_i = _check_optimize_result(\n"
     ]
    }
   ],
   "source": [
    "#logisticR\n",
    "model= LogisticRegression()\n",
    "model.fit(X_train,y_train)\n",
    "y_pred = model.predict(X_test)\n",
    "print(\"accuracy\",accuracy_score(y_test,y_pred))\n",
    "print(\"Classification\",classification_report(y_test,y_pred))\n",
    "print(\"Confusion\",confusion_matrix(y_test,y_pred))"
   ]
  },
  {
   "cell_type": "code",
   "execution_count": 20,
   "id": "e97c861d-e1e7-4781-b72f-aecf4e4dfc6e",
   "metadata": {},
   "outputs": [
    {
     "data": {
      "image/png": "[encoded data removed]",
      "text/plain": [
       "<Figure size 640x480 with 1 Axes>"
      ]
     },
     "metadata": {},
     "output_type": "display_data"
    }
   ],
   "source": [
    "#plotting precision F1 score Recall\n",
    "\n",
    "import matplotlib.pyplot as plt\n",
    "import numpy as np\n",
    "\n",
    "# Metrics\n",
    "classes = ['Class 0', 'Class 1']\n",
    "precision = [0.89, 0.90]\n",
    "recall = [0.89, 0.90]\n",
    "f1_score = [0.89, 0.90]\n",
    "\n",
    "# Bar width and positions\n",
    "bar_width = 0.2\n",
    "r1 = np.arange(len(classes))\n",
    "r2 = [x + bar_width for x in r1]\n",
    "r3 = [x + bar_width for x in r2]\n",
    "\n",
    "# Plotting\n",
    "plt.bar(r1, precision, color='b', width=bar_width, edgecolor='grey', label='Precision')\n",
    "plt.bar(r2, recall, color='g', width=bar_width, edgecolor='grey', label='Recall')\n",
    "plt.bar(r3, f1_score, color='r', width=bar_width, edgecolor='grey', label='F1-Score')\n",
    "\n",
    "# Customizations\n",
    "plt.xlabel('Classes')\n",
    "plt.ylabel('Scores')\n",
    "plt.title('Classification Metrics')\n",
    "plt.xticks([r + bar_width for r in range(len(classes))], classes)\n",
    "plt.legend()\n",
    "plt.show()\n"
   ]
  },
  {
   "cell_type": "code",
   "execution_count": 21,
   "id": "40c1fdae-059b-49ed-8865-ca3a5d8ae8ab",
   "metadata": {},
   "outputs": [
    {
     "data": {
      "image/png": "[encoded data removed]",
      "text/plain": [
       "<Figure size 640x480 with 2 Axes>"
      ]
     },
     "metadata": {},
     "output_type": "display_data"
    }
   ],
   "source": [
    "#plotting matrix graph\n",
    "import seaborn as sns\n",
    "\n",
    "# Confusion matrix data\n",
    "cm = [[31, 4],\n",
    "      [4, 35]]\n",
    "\n",
    "# Heatmap plot\n",
    "sns.heatmap(cm, annot=True, fmt=\"d\", cmap=\"Blues\", xticklabels=[\"Class 0\", \"Class 1\"], yticklabels=[\"Class 0\", \"Class 1\"])\n",
    "plt.xlabel('Predicted Labels')\n",
    "plt.ylabel('True Labels')\n",
    "plt.title('Confusion Matrix')\n",
    "plt.show()\n"
   ]
  },
  {
   "cell_type": "code",
   "execution_count": 22,
   "id": "e93a7e66-75dd-4cc3-906a-bad9f398dd51",
   "metadata": {},
   "outputs": [
    {
     "name": "stdout",
     "output_type": "stream",
     "text": [
      "accuracy 0.6976209271306857\n",
      "Classification               precision    recall  f1-score   support\n",
      "\n",
      "           0       0.72      0.64      0.68     36837\n",
      "           1       0.68      0.76      0.71     36637\n",
      "\n",
      "    accuracy                           0.70     73474\n",
      "   macro avg       0.70      0.70      0.70     73474\n",
      "weighted avg       0.70      0.70      0.70     73474\n",
      "\n",
      "Confusion [[23559 13278]\n",
      " [ 8939 27698]]\n"
     ]
    }
   ],
   "source": [
    "#random forest\n",
    "\n",
    "from sklearn.ensemble import RandomForestClassifier\n",
    "model= RandomForestClassifier(n_estimators=100,random_state=42,criterion=\"gini\",max_depth=50)\n",
    "model.fit(X_train,y_train)\n",
    "y_pred = model.predict(X_test)\n",
    "print(\"accuracy\",accuracy_score(y_test,y_pred))\n",
    "print(\"Classification\",classification_report(y_test,y_pred))\n",
    "print(\"Confusion\",confusion_matrix(y_test,y_pred))\n"
   ]
  },
  {
   "cell_type": "code",
   "execution_count": 22,
   "id": "ad27eb85-af83-415e-a3ad-dddcf22caca0",
   "metadata": {},
   "outputs": [
    {
     "name": "stdout",
     "output_type": "stream",
     "text": [
      "accuracy 0.6514277159267223\n",
      "Classification               precision    recall  f1-score   support\n",
      "\n",
      "           0       0.66      0.64      0.65     36837\n",
      "           1       0.65      0.67      0.66     36637\n",
      "\n",
      "    accuracy                           0.65     73474\n",
      "   macro avg       0.65      0.65      0.65     73474\n",
      "weighted avg       0.65      0.65      0.65     73474\n",
      "\n",
      "Confusion [[23495 13342]\n",
      " [12269 24368]]\n"
     ]
    }
   ],
   "source": [
    "#Naive Bayes Algorithm\n",
    "from sklearn.naive_bayes import MultinomialNB\n",
    "model= MultinomialNB()\n",
    "model.fit(X_train,y_train) \n",
    "y_pred = model.predict(X_test)\n",
    "print(\"accuracy\",accuracy_score(y_test,y_pred))\n",
    "print(\"Classification\",classification_report(y_test,y_pred))\n",
    "print(\"Confusion\",confusion_matrix(y_test,y_pred))"
   ]
  },
  {
   "cell_type": "code",
   "execution_count": 23,
   "id": "6b45e9b4",
   "metadata": {},
   "outputs": [
    {
     "name": "stdout",
     "output_type": "stream",
     "text": [
      "accuracy 0.6919998911179465\n",
      "Classification               precision    recall  f1-score   support\n",
      "\n",
      "           0       0.71      0.66      0.68     36837\n",
      "           1       0.68      0.73      0.70     36637\n",
      "\n",
      "    accuracy                           0.69     73474\n",
      "   macro avg       0.69      0.69      0.69     73474\n",
      "weighted avg       0.69      0.69      0.69     73474\n",
      "\n",
      "Confusion [[24183 12654]\n",
      " [ 9976 26661]]\n"
     ]
    }
   ],
   "source": [
    "from sklearn.svm import LinearSVC\n",
    "\n",
    "# Support Vector Classifier with linear kernel\n",
    "\n",
    "model = LinearSVC(random_state=42)\n",
    "model.fit(X_train, y_train)\n",
    "y_pred = model.predict(X_test)\n",
    "print(\"accuracy\", accuracy_score(y_test, y_pred))\n",
    "print(\"Classification\", classification_report(y_test, y_pred))\n",
    "print(\"Confusion\", confusion_matrix(y_test, y_pred))"
   ]
  },
  {
   "cell_type": "markdown",
   "id": "6cc4768b-9bad-4020-852a-b1bdb5f1e1d4",
   "metadata": {},
   "source": [
    "# CHOOSE MODEL"
   ]
  },
  {
   "cell_type": "code",
   "execution_count": 24,
   "id": "93779e13-69f4-4dbd-aec2-1b32375f1593",
   "metadata": {},
   "outputs": [
    {
     "name": "stdout",
     "output_type": "stream",
     "text": [
      "accuracy 0.701145983613251\n",
      "Classification               precision    recall  f1-score   support\n",
      "\n",
      "           0       0.72      0.67      0.69     36837\n",
      "           1       0.69      0.73      0.71     36637\n",
      "\n",
      "    accuracy                           0.70     73474\n",
      "   macro avg       0.70      0.70      0.70     73474\n",
      "weighted avg       0.70      0.70      0.70     73474\n",
      "\n",
      "Confusion [[24702 12135]\n",
      " [ 9823 26814]]\n"
     ]
    },
    {
     "name": "stderr",
     "output_type": "stream",
     "text": [
      "c:\\Users\\souna\\OneDrive\\Desktop\\plagirism-detector\\myenv\\Lib\\site-packages\\sklearn\\linear_model\\_logistic.py:469: ConvergenceWarning: lbfgs failed to converge (status=1):\n",
      "STOP: TOTAL NO. of ITERATIONS REACHED LIMIT.\n",
      "\n",
      "Increase the number of iterations (max_iter) or scale the data as shown in:\n",
      "    https://scikit-learn.org/stable/modules/preprocessing.html\n",
      "Please also refer to the documentation for alternative solver options:\n",
      "    https://scikit-learn.org/stable/modules/linear_model.html#logistic-regression\n",
      "  n_iter_i = _check_optimize_result(\n"
     ]
    }
   ],
   "source": [
    "#logisticR\n",
    "model= LogisticRegression()\n",
    "model.fit(X_train,y_train)\n",
    "y_pred = model.predict(X_test)\n",
    "print(\"accuracy\",accuracy_score(y_test,y_pred))\n",
    "print(\"Classification\",classification_report(y_test,y_pred))\n",
    "print(\"Confusion\",confusion_matrix(y_test,y_pred))"
   ]
  },
  {
   "cell_type": "code",
   "execution_count": 25,
   "id": "b7f97296-fe36-43dd-a6da-da820cc20b87",
   "metadata": {},
   "outputs": [
    {
     "name": "stdout",
     "output_type": "stream",
     "text": [
      "Model saved as model.pkl\n"
     ]
    }
   ],
   "source": [
    "import pickle\n",
    "\n",
    "# Save the model to a .pkl file\n",
    "with open('model.pkl', 'wb') as file:\n",
    "    pickle.dump(model, file)\n",
    "\n",
    "print(\"Model saved as model.pkl\")\n",
    "\n"
   ]
  },
  {
   "cell_type": "markdown",
   "id": "f545e81a-b705-41d2-8eaa-ce342e24839a",
   "metadata": {},
   "source": [
    "# LOAD MODEL AND VECTORIZER"
   ]
  },
  {
   "cell_type": "code",
   "execution_count": 26,
   "id": "43d54a76-f130-4f68-ab82-817dfdb8a767",
   "metadata": {},
   "outputs": [],
   "source": [
    "model=pickle.load(open('model.pkl','rb'))\n",
    "tfidf_vectorizer=pickle.load(open('tfidf_vectorizer.pkl','rb'))\n"
   ]
  },
  {
   "cell_type": "markdown",
   "id": "fb9ac423-2a0b-4f5b-b5f4-9a9dfb950231",
   "metadata": {},
   "source": [
    "# DETECTION SYSTEM"
   ]
  },
  {
   "cell_type": "code",
   "execution_count": 29,
   "id": "e6a0bfd6-b5e5-44ec-8161-8173e3adca60",
   "metadata": {},
   "outputs": [],
   "source": [
    "def detect(input_text):\n",
    "    #vectorize the text\n",
    "    vectorized_text=tfidf_vectorizer.transform([input_text])\n",
    "    #prediction by model\n",
    "    result=model.predict(vectorized_text)\n",
    "    return  \"PLAGIARISM DETECTED\" if result[0]==1 else \"NO PLAGIARISM\""
   ]
  },
  {
   "cell_type": "code",
   "execution_count": 30,
   "id": "9bf9e128-1a50-48d9-a61e-119f07eb765a",
   "metadata": {},
   "outputs": [
    {
     "data": {
      "text/plain": [
       "'NO PLAGIARISM'"
      ]
     },
     "execution_count": 30,
     "metadata": {},
     "output_type": "execute_result"
    }
   ],
   "source": [
    "#example\n",
    "input_text=\"I have no book\"\n",
    "detect(input_text)"
   ]
  },
  {
   "cell_type": "code",
   "execution_count": 31,
   "id": "125b5df1-49ad-4b9f-8673-c4facd49e2e0",
   "metadata": {},
   "outputs": [
    {
     "data": {
      "text/plain": [
       "'PLAGIARISM DETECTED'"
      ]
     },
     "execution_count": 31,
     "metadata": {},
     "output_type": "execute_result"
    }
   ],
   "source": [
    "#example\n",
    "input_text=\"Playing Musical instruments enhances creativity\"\n",
    "detect(input_text)"
   ]
  }
 ],
 "metadata": {
  "kernelspec": {
   "display_name": "myenv",
   "language": "python",
   "name": "python3"
  },
  "language_info": {
   "codemirror_mode": {
    "name": "ipython",
    "version": 3
   },
   "file_extension": ".py",
   "mimetype": "text/x-python",
   "name": "python",
   "nbconvert_exporter": "python",
   "pygments_lexer": "ipython3",
   "version": "3.12.6"
  }
 },
 "nbformat": 4,
 "nbformat_minor": 5
}
